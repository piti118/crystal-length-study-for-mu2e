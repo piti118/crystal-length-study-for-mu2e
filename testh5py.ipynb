{
 "metadata": {
  "name": "testh5py"
 },
 "nbformat": 3,
 "worksheets": [
  {
   "cells": [
    {
     "cell_type": "code",
     "collapsed": true,
     "input": [
      ""
     ],
     "language": "python",
     "outputs": []
    }
   ]
  }
 ]
}